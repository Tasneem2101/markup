{
  "cells": [
    {
      "cell_type": "markdown",
      "metadata": {
        "id": "view-in-github",
        "colab_type": "text"
      },
      "source": [
        "<a href=\"https://colab.research.google.com/github/Tasneem2101/markup/blob/main/Practice_Markdown.ipynb\" target=\"_parent\"><img src=\"https://colab.research.google.com/assets/colab-badge.svg\" alt=\"Open In Colab\"/></a>"
      ]
    },
    {
      "cell_type": "markdown",
      "metadata": {
        "id": "XveJ7bp5d0YV"
      },
      "source": [
        "## Practice Markdown"
      ]
    },
    {
      "cell_type": "markdown",
      "metadata": {
        "id": "m3i9Vytsd0YY"
      },
      "source": [
        "This notebook lets you experiment with producing repeatable technical documentation.  Use this notebook to do the following actions:\n",
        "\n",
        "* Create a code cell and print a Python Hello World statement:  `print(\"hello world\")`\n",
        "* Create a Markdown Cell and add a Title using `#` and then a statement using plain text.  You can looks at the source code for this cell to get an idea of how to use Markdown.\n",
        "* Take some ideas from the [Master Markdown Github Guide](https://guides.github.com/features/mastering-markdown/) and implement them here.\n",
        "* Download this notebook as a `.ipynb` file and check into a Github Project.  You can [see an example here](https://github.com/noahgift/duke-coursera-ccf-lab1/blob/main/Practice-Markdown.ipynb).\n",
        "* Open your notebook in Google Colab and save it into the same Github Project.  You can [see an example here](https://github.com/noahgift/duke-coursera-ccf-lab1/blob/main/Practice_Markdown_with_colab.ipynb).\n"
      ]
    },
    {
      "cell_type": "code",
      "execution_count": null,
      "metadata": {
        "id": "uWfmnQIrd0YZ",
        "outputId": "8445d94a-db81-4593-cf40-bb1f04bd44da"
      },
      "outputs": [
        {
          "name": "stdout",
          "output_type": "stream",
          "text": [
            "hello world\n"
          ]
        }
      ],
      "source": [
        "print(\"hello world\")"
      ]
    },
    {
      "cell_type": "markdown",
      "metadata": {
        "id": "NF3bMCu_d0Yb"
      },
      "source": [
        "# This is a Title\n"
      ]
    },
    {
      "cell_type": "markdown",
      "metadata": {
        "id": "qocfp76gd0Yb"
      },
      "source": [
        "# A first-level heading\n",
        "## A second-level heading\n",
        "### A third-level heading\n"
      ]
    },
    {
      "cell_type": "markdown",
      "metadata": {
        "id": "8qyuKLVqd0Yb"
      },
      "source": [
        "> Text that is a quote"
      ]
    },
    {
      "cell_type": "markdown",
      "metadata": {
        "id": "H17rU27Rd0Yc"
      },
      "source": [
        "This is a <sup>superscript</sup> text"
      ]
    },
    {
      "cell_type": "markdown",
      "metadata": {
        "id": "TfjqwqyVd0Yc"
      },
      "source": [
        "***All this text is important***"
      ]
    },
    {
      "cell_type": "markdown",
      "metadata": {
        "id": "VOhvRG9yd0Yc"
      },
      "source": [
        "_extremely_ important**"
      ]
    },
    {
      "cell_type": "markdown",
      "metadata": {
        "id": "-o51znK1d0Yc"
      },
      "source": [
        "_extremely_ important**"
      ]
    },
    {
      "cell_type": "markdown",
      "metadata": {
        "id": "MfNZja-ud0Yc"
      },
      "source": [
        "_extremely_ **important**"
      ]
    },
    {
      "cell_type": "markdown",
      "metadata": {
        "id": "AbjdrWx5d0Yd"
      },
      "source": [
        "Some basic Git commands are:\n",
        "```\n",
        "git status\n",
        "git add\n",
        "git commit\n",
        "```"
      ]
    },
    {
      "cell_type": "code",
      "execution_count": null,
      "metadata": {
        "id": "IJKrMrdGd0Yd"
      },
      "outputs": [],
      "source": []
    }
  ],
  "metadata": {
    "kernelspec": {
      "display_name": "Python 3",
      "language": "python",
      "name": "python3"
    },
    "language_info": {
      "codemirror_mode": {
        "name": "ipython",
        "version": 3
      },
      "file_extension": ".py",
      "mimetype": "text/x-python",
      "name": "python",
      "nbconvert_exporter": "python",
      "pygments_lexer": "ipython3",
      "version": "3.7.6"
    },
    "colab": {
      "provenance": [],
      "include_colab_link": true
    }
  },
  "nbformat": 4,
  "nbformat_minor": 0
}